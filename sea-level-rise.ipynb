{
 "cells": [
  {
   "cell_type": "markdown",
   "id": "8f552380-cc0a-4fb8-b4b3-276a6564b239",
   "metadata": {},
   "source": [
    "# Analyzing Sea Level Rise in the Cloud with Coiled and Earthaccess\n",
    "\n",
    "_This notebook was adapted from [this NASA Earthdata Cloud Cookbook example](https://nasa-openscapes.github.io/earthdata-cloud-cookbook/external/Sea_level_rise_notebook.html)_"
   ]
  },
  {
   "cell_type": "markdown",
   "id": "4a30aadb-41d4-4c08-a6fa-5ea60c6bd695",
   "metadata": {},
   "source": [
    "## Get data files with `earthaccess`"
   ]
  },
  {
   "cell_type": "code",
   "execution_count": null,
   "id": "899b10a6-51fc-4d97-96d2-54e81a8b8f7d",
   "metadata": {
    "tags": []
   },
   "outputs": [],
   "source": [
    "# Authenticate my machine with `earthaccess`\n",
    "import earthaccess\n",
    "\n",
    "earthaccess.login();"
   ]
  },
  {
   "cell_type": "code",
   "execution_count": null,
   "id": "d2d48b80-6e72-4ad0-a71d-915d96f1ce03",
   "metadata": {
    "tags": []
   },
   "outputs": [],
   "source": [
    "%%time\n",
    "\n",
    "# Retrieve data files for the dataset I'm interested in\n",
    "granules = earthaccess.search_data(\n",
    "    short_name=\"SEA_SURFACE_HEIGHT_ALT_GRIDS_L4_2SATS_5DAY_6THDEG_V_JPL2205\",\n",
    "    temporal=(\"2000\", \"2019\"),\n",
    ")"
   ]
  },
  {
   "cell_type": "markdown",
   "id": "64df6beb-e1e9-4691-b6ec-18dfa6803f53",
   "metadata": {},
   "source": [
    "## Define processing function"
   ]
  },
  {
   "cell_type": "code",
   "execution_count": null,
   "id": "f5cb0793-5273-4ede-9b8d-080a79ab8228",
   "metadata": {},
   "outputs": [],
   "source": [
    "import coiled\n",
    "import xarray as xr\n",
    "\n",
    "@coiled.function(region=\"us-west-2\")  # Same region as data\n",
    "def process(granule, fs):\n",
    "    results = []\n",
    "    for file in granule.data_links(\"direct\"):\n",
    "        ds = xr.open_dataset(fs.open(file))\n",
    "        ds = ds.sel(Latitude=slice(23, 50), Longitude=slice(270, 330))\n",
    "        ds = ds.SLA.where((ds.SLA >= 0) & (ds.SLA < 10))\n",
    "        results.append(ds)\n",
    "    result = xr.concat(results, dim=\"Time\")\n",
    "    return result"
   ]
  },
  {
   "cell_type": "markdown",
   "id": "cbe32079-17f9-45a8-9601-c0fe21980183",
   "metadata": {},
   "source": [
    "## Process all data files in parallel"
   ]
  },
  {
   "cell_type": "code",
   "execution_count": null,
   "id": "d187d258-4caf-4430-b4f1-d34d920a83a1",
   "metadata": {},
   "outputs": [],
   "source": [
    "%%time\n",
    "\n",
    "fs = earthaccess.get_s3fs_session(results=granules)\n",
    "chunks = process.map(granules, fs=fs)  # This runs on the cloud in parallel\n",
    "ds = xr.concat(chunks, dim=\"Time\")"
   ]
  },
  {
   "cell_type": "markdown",
   "id": "9316657d-b601-4f3e-b523-c6b195b4e24a",
   "metadata": {},
   "source": [
    "## Plot results"
   ]
  },
  {
   "cell_type": "code",
   "execution_count": null,
   "id": "eda3a5d4-6dbb-425a-bc21-7c933c403eba",
   "metadata": {},
   "outputs": [],
   "source": [
    "ds.std(\"Time\").plot(x=\"Longitude\", y=\"Latitude\", figsize=(14, 6));"
   ]
  },
  {
   "cell_type": "code",
   "execution_count": null,
   "id": "73cddfb8-2650-4e87-8edb-ab026b745b02",
   "metadata": {},
   "outputs": [],
   "source": []
  }
 ],
 "metadata": {
  "kernelspec": {
   "display_name": "Python 3 (ipykernel)",
   "language": "python",
   "name": "python3"
  },
  "language_info": {
   "codemirror_mode": {
    "name": "ipython",
    "version": 3
   },
   "file_extension": ".py",
   "mimetype": "text/x-python",
   "name": "python",
   "nbconvert_exporter": "python",
   "pygments_lexer": "ipython3",
   "version": "3.10.0"
  }
 },
 "nbformat": 4,
 "nbformat_minor": 5
}
