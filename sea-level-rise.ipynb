{
 "cells": [
  {
   "cell_type": "markdown",
   "id": "8f552380-cc0a-4fb8-b4b3-276a6564b239",
   "metadata": {},
   "source": [
    "# Analyzing Sea Level Rise in the Cloud with Coiled and Earthaccess\n",
    "\n",
    "_This notebook was adapted from [this NASA Earthdata Cloud Cookbook example](https://nasa-openscapes.github.io/earthdata-cloud-cookbook/external/Sea_level_rise_notebook.html)_"
   ]
  },
  {
   "cell_type": "markdown",
   "id": "9e4dbac6-b20b-43c3-b64a-189a614a3fb9",
   "metadata": {},
   "source": [
    "## Create cluster on AWS with Coiled"
   ]
  },
  {
   "cell_type": "code",
   "execution_count": null,
   "id": "cbd1ed19-c6db-427c-9076-2e6af892558d",
   "metadata": {
    "tags": []
   },
   "outputs": [],
   "source": [
    "%%time\n",
    "\n",
    "# Spin up a Coiled cluster in the same region as our data (us-west-2)\n",
    "import coiled\n",
    "\n",
    "cluster = coiled.Cluster(n_workers=20, region=\"us-west-2\")\n",
    "client = cluster.get_client()\n",
    "client"
   ]
  },
  {
   "cell_type": "markdown",
   "id": "4a30aadb-41d4-4c08-a6fa-5ea60c6bd695",
   "metadata": {},
   "source": [
    "## Get data files with `earthaccess`"
   ]
  },
  {
   "cell_type": "code",
   "execution_count": null,
   "id": "899b10a6-51fc-4d97-96d2-54e81a8b8f7d",
   "metadata": {
    "tags": []
   },
   "outputs": [],
   "source": [
    "# Authenticate my machine with `earthaccess`\n",
    "import earthaccess\n",
    "\n",
    "earthaccess.login();"
   ]
  },
  {
   "cell_type": "code",
   "execution_count": null,
   "id": "d2d48b80-6e72-4ad0-a71d-915d96f1ce03",
   "metadata": {
    "tags": []
   },
   "outputs": [],
   "source": [
    "%%time\n",
    "\n",
    "# Retrieve data files for the dataset I'm interested in\n",
    "short_name = \"SEA_SURFACE_HEIGHT_ALT_GRIDS_L4_2SATS_5DAY_6THDEG_V_JPL2205\"\n",
    "results = earthaccess.search_data(\n",
    "    short_name=short_name,\n",
    "    cloud_hosted=True,\n",
    "    temporal=(\"1990\", \"2019\"),\n",
    "    # bounding_box=...,\n",
    ")"
   ]
  },
  {
   "cell_type": "markdown",
   "id": "cbe32079-17f9-45a8-9601-c0fe21980183",
   "metadata": {},
   "source": [
    "## Analyze data on my cluster with Xarray"
   ]
  },
  {
   "cell_type": "code",
   "execution_count": null,
   "id": "a231efb7-0b37-48be-a432-74afbde099de",
   "metadata": {
    "tags": []
   },
   "outputs": [],
   "source": [
    "# %%time\n",
    "\n",
    "# import xarray as xr\n",
    "\n",
    "# ds = xr.open_mfdataset(earthaccess.open(results))\n",
    "# ds"
   ]
  },
  {
   "cell_type": "code",
   "execution_count": null,
   "id": "4ff29358-f52f-4a35-82d1-4b0f85d72580",
   "metadata": {
    "tags": []
   },
   "outputs": [],
   "source": [
    "%%time\n",
    "\n",
    "fs = earthaccess.get_s3fs_session(daac=\"PODAAC\")"
   ]
  },
  {
   "cell_type": "code",
   "execution_count": null,
   "id": "a79eac07-18c8-4c73-b4f7-d526e82ee0d3",
   "metadata": {
    "tags": []
   },
   "outputs": [],
   "source": [
    "%%time\n",
    "\n",
    "import xarray as xr\n",
    "\n",
    "ds = xr.open_dataset(\n",
    "    \"reference://\",\n",
    "    engine=\"zarr\",\n",
    "    chunks={},\n",
    "    backend_kwargs={\n",
    "        \"consolidated\": False,\n",
    "        \"storage_options\": {\n",
    "            \"fo\": f\"s3://oss-shared-scratch/jrbourbeau/{short_name}/combined.json\",\n",
    "            \"remote_protocol\": \"s3\",\n",
    "            \"remote_options\": fs.storage_options,\n",
    "        }\n",
    "    },\n",
    ")\n",
    "ds"
   ]
  },
  {
   "cell_type": "code",
   "execution_count": null,
   "id": "01ae9c7f-819c-4afc-b41a-57a793dab196",
   "metadata": {},
   "outputs": [],
   "source": [
    "ds.SLA.where((ds.SLA>=0) & (ds.SLA < 10)).std(\"Time\")[::-1, :].plot.imshow(figsize=(14, 6));"
   ]
  }
 ],
 "metadata": {
  "kernelspec": {
   "display_name": "Python 3 (ipykernel)",
   "language": "python",
   "name": "python3"
  },
  "language_info": {
   "codemirror_mode": {
    "name": "ipython",
    "version": 3
   },
   "file_extension": ".py",
   "mimetype": "text/x-python",
   "name": "python",
   "nbconvert_exporter": "python",
   "pygments_lexer": "ipython3",
   "version": "3.10.0"
  }
 },
 "nbformat": 4,
 "nbformat_minor": 5
}
