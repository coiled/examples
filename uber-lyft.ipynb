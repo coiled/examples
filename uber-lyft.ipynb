{
 "cells": [
  {
   "cell_type": "markdown",
   "id": "f8eafed2-77a1-4691-8e8b-aeb1187ce8f5",
   "metadata": {
    "tags": []
   },
   "source": [
    "NYC Uber/Lyft Rides\n",
    "===================\n",
    "\n",
    "The NYC Taxi dataset is a timeless classic.  \n",
    "\n",
    "Interestingly there is a new variant.  The NYC Taxi and Livery Commission requires data from all ride-share services in the city of New York.  This includes private limosine services, van services, and a new category \"High Volume For Hire Vehicle\" services, those that dispatch 10,000 rides per day or more.  This is a special category defined for Uber and Lyft.  \n",
    "\n",
    "This data is available here:"
   ]
  },
  {
   "cell_type": "code",
   "execution_count": null,
   "id": "9a9e6076-c8b3-4282-90a4-0fe3ab49440d",
   "metadata": {
    "tags": []
   },
   "outputs": [],
   "source": [
    "import coiled\n",
    "\n",
    "name = \"your_name\" #avoid reusing teamate clusters\n",
    "\n",
    "cluster = coiled.Cluster(\n",
    "    n_workers=30,\n",
    "    account=\"events\",\n",
    "    name=f\"uber-lyft_pydata-seattle_{name}\",\n",
    "    shutdown_on_close=False,\n",
    ")\n",
    "\n",
    "client = cluster.get_client()"
   ]
  },
  {
   "cell_type": "code",
   "execution_count": null,
   "id": "30f1ed22-0346-462e-b6a9-3e3a385702ae",
   "metadata": {
    "tags": []
   },
   "outputs": [],
   "source": [
    "client"
   ]
  },
  {
   "cell_type": "code",
   "execution_count": null,
   "id": "33b598a4-fe0a-43c5-8007-0e955ac193f9",
   "metadata": {
    "tags": []
   },
   "outputs": [],
   "source": [
    "import dask\n",
    "import pandas\n",
    "import dask.dataframe as dd\n",
    "import pandas as pd\n",
    "\n",
    "dask.config.set({\"dataframe.convert-string\": True})  # use PyArrow strings by default\n",
    "\n",
    "df = dd.read_parquet(\n",
    "    \"s3://coiled-datasets/uber-lyft-tlc/\",\n",
    "    storage_options={\"anon\": True},\n",
    ")\n",
    "df.head()"
   ]
  },
  {
   "cell_type": "markdown",
   "id": "f9d012d8-6055-4cdc-a37e-d6a01b36c7db",
   "metadata": {},
   "source": [
    "Play time\n",
    "---------\n",
    "\n",
    "We actually don't know what to expect from this dataset.  No one in our team has spent much time inspecting it.  We'd like to solicit help from you, new Dask user, to uncover some interesting insights.  \n",
    "\n",
    "Care to explore and report your findings?"
   ]
  },
  {
   "cell_type": "code",
   "execution_count": null,
   "id": "95a96932-2109-447c-9eb3-0d235de5e973",
   "metadata": {
    "tags": []
   },
   "outputs": [],
   "source": [
    "df = df.persist()\n",
    "\n",
    "df.columns"
   ]
  },
  {
   "cell_type": "code",
   "execution_count": null,
   "id": "0d1b4b93-3c0d-430b-9d3a-4573d52d991d",
   "metadata": {
    "tags": []
   },
   "outputs": [],
   "source": [
    "%time df.base_passenger_fare.sum().compute()"
   ]
  },
  {
   "cell_type": "code",
   "execution_count": null,
   "id": "46f20678-0ac4-4133-8f05-86b11117e243",
   "metadata": {
    "tags": []
   },
   "outputs": [],
   "source": [
    "df.driver_pay.sum().compute()"
   ]
  },
  {
   "cell_type": "markdown",
   "id": "48f4dbf8-86c6-4cfc-8125-a67ea2ddfbed",
   "metadata": {
    "tags": []
   },
   "source": [
    "## Basic statistics"
   ]
  },
  {
   "cell_type": "code",
   "execution_count": null,
   "id": "f0068858-cce5-4939-85df-7251bd0923c2",
   "metadata": {
    "tags": []
   },
   "outputs": [],
   "source": [
    "total = df[[\"base_passenger_fare\", \"driver_pay\", \"tips\", \"trip_miles\"]].sum()\n",
    "average = df[[\"base_passenger_fare\", \"driver_pay\", \"tips\", \"trip_miles\"]].mean()\n",
    "\n"
   ]
  },
  {
   "cell_type": "code",
   "execution_count": null,
   "id": "e3abf9cf-303d-4b79-a541-c337a8c55f35",
   "metadata": {
    "tags": []
   },
   "outputs": [],
   "source": [
    "total"
   ]
  },
  {
   "cell_type": "code",
   "execution_count": null,
   "id": "327134c9-409c-4979-acb7-e987fe86d7aa",
   "metadata": {
    "tags": []
   },
   "outputs": [],
   "source": [
    "average"
   ]
  },
  {
   "cell_type": "code",
   "execution_count": null,
   "id": "ae57ee02-b8c3-4d9b-a053-2d866bb6ab14",
   "metadata": {
    "tags": []
   },
   "outputs": [],
   "source": [
    "total, average = dask.compute(total, average)"
   ]
  },
  {
   "cell_type": "markdown",
   "id": "98d43c82-9a03-4311-8c17-2ef3b3519aa7",
   "metadata": {},
   "source": [
    "## Tipping Practices"
   ]
  },
  {
   "cell_type": "code",
   "execution_count": null,
   "id": "0779b461-afe8-4f1d-8648-8b92c4f63220",
   "metadata": {
    "tags": []
   },
   "outputs": [],
   "source": [
    "df[df.tips != 0].tips.mean().compute()"
   ]
  },
  {
   "cell_type": "code",
   "execution_count": null,
   "id": "24f7760a-0048-4299-8c49-e3977ac9825e",
   "metadata": {
    "tags": []
   },
   "outputs": [],
   "source": [
    "(df.tips != 0).mean().compute()"
   ]
  },
  {
   "cell_type": "code",
   "execution_count": null,
   "id": "ce1f8948-2556-4d4a-b552-32ff6bb3625a",
   "metadata": {
    "tags": []
   },
   "outputs": [],
   "source": [
    "df.base_passenger_fare.sum().compute()"
   ]
  },
  {
   "cell_type": "code",
   "execution_count": null,
   "id": "29f6b412-2650-4ea4-8a3a-be2e8be58902",
   "metadata": {
    "tags": []
   },
   "outputs": [],
   "source": [
    "df.driver_pay.sum().compute()"
   ]
  },
  {
   "cell_type": "code",
   "execution_count": null,
   "id": "a94ce36a-3407-4006-8150-a03cc7f6d468",
   "metadata": {
    "tags": []
   },
   "outputs": [],
   "source": [
    "(df.driver_pay > df.base_passenger_fare).mean().compute()"
   ]
  },
  {
   "cell_type": "markdown",
   "id": "10f285be-6839-4866-9535-43adbcc965d0",
   "metadata": {},
   "source": [
    "## Broken down by carrier"
   ]
  },
  {
   "cell_type": "code",
   "execution_count": null,
   "id": "b71729eb-f841-433a-b020-0f2b1c425355",
   "metadata": {
    "tags": []
   },
   "outputs": [],
   "source": [
    "df.hvfhs_license_num.value_counts().compute()"
   ]
  },
  {
   "cell_type": "code",
   "execution_count": null,
   "id": "da79527d-8db9-4f7b-96fe-c87159241103",
   "metadata": {
    "tags": []
   },
   "outputs": [],
   "source": [
    "df[\"tipped\"] = df.tips != 0\n",
    "\n",
    "tip_by_provider = df.groupby(\"hvfhs_license_num\").tipped.mean().compute()\n",
    "tip_by_provider"
   ]
  },
  {
   "cell_type": "code",
   "execution_count": null,
   "id": "07cafdb6-dea7-4748-b1cd-0072bb306bbf",
   "metadata": {
    "tags": []
   },
   "outputs": [],
   "source": [
    "tip_by_provider"
   ]
  },
  {
   "cell_type": "code",
   "execution_count": null,
   "id": "f3877c42-17db-44ed-a674-0699ccecf886",
   "metadata": {
    "tags": []
   },
   "outputs": [],
   "source": [
    "provider = {\"HV0002\": \"Juno\", \"HV0005\": \"Lyft\", \"HV0003\": \"Uber\", \"HV0004\": \"Via\"}\n",
    "tip_by_provider = tip_by_provider.to_frame().set_index(tip_by_provider.index.map(provider))\n",
    "\n",
    "tip_by_provider"
   ]
  },
  {
   "cell_type": "code",
   "execution_count": null,
   "id": "45d6b039-5552-474f-a5a8-771b4fc7d46e",
   "metadata": {},
   "outputs": [],
   "source": [
    "while True:\n",
    "    df[\"tipped\"] = df.tips != 0\n",
    "\n",
    "    df.groupby(\"hvfhs_license_num\").tipped.mean().compute()"
   ]
  },
  {
   "cell_type": "code",
   "execution_count": null,
   "id": "4432885d-f95c-4c09-8d74-884c556afc75",
   "metadata": {
    "tags": []
   },
   "outputs": [],
   "source": [
    "client.restart()"
   ]
  },
  {
   "cell_type": "code",
   "execution_count": null,
   "id": "7c1fbb83-3d0d-40fa-a2ca-95fbe6d13636",
   "metadata": {},
   "outputs": [],
   "source": [
    "df[\"tipped\"] = df.tips != 0\n",
    "\n",
    "x = df.groupby(\"hvfhs_license_num\").tipped.mean().persist()"
   ]
  },
  {
   "cell_type": "code",
   "execution_count": null,
   "id": "df1bb2de-e55e-4bd8-a7f1-d4d7b62e3c0e",
   "metadata": {},
   "outputs": [],
   "source": [
    "client.restart()"
   ]
  },
  {
   "cell_type": "code",
   "execution_count": null,
   "id": "33f4bcef-b0da-4909-a628-b4a18a4b6a2b",
   "metadata": {
    "tags": []
   },
   "outputs": [],
   "source": [
    "cluster.shutdown()"
   ]
  },
  {
   "cell_type": "markdown",
   "id": "7c962f9f-7308-465a-98fb-ac622a967a34",
   "metadata": {},
   "source": [
    "## Dask TV"
   ]
  },
  {
   "cell_type": "code",
   "execution_count": null,
   "id": "829de2bc-ed09-4e10-b06f-268aa79ead59",
   "metadata": {
    "tags": []
   },
   "outputs": [],
   "source": [
    "while True:\n",
    "    client.restart()\n",
    "    dask.config.set({\"dataframe.convert-string\": True})  # use PyArrow strings by default\n",
    "\n",
    "    df = dd.read_parquet(\n",
    "        \"s3://coiled-datasets/uber-lyft-tlc/\",\n",
    "        storage_options={\"anon\": True},\n",
    "    ).persist()\n",
    "\n",
    "    for _ in range(10):\n",
    "        df[\"tipped\"] = df.tips != 0\n",
    "\n",
    "        df.groupby(\"hvfhs_license_num\").tipped.mean().compute()"
   ]
  }
 ],
 "metadata": {
  "kernelspec": {
   "display_name": "Python 3 (ipykernel)",
   "language": "python",
   "name": "python3"
  },
  "language_info": {
   "codemirror_mode": {
    "name": "ipython",
    "version": 3
   },
   "file_extension": ".py",
   "mimetype": "text/x-python",
   "name": "python",
   "nbconvert_exporter": "python",
   "pygments_lexer": "ipython3",
   "version": "3.10.0"
  }
 },
 "nbformat": 4,
 "nbformat_minor": 5
}
