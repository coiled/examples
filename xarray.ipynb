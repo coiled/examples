{
 "cells": [
  {
   "cell_type": "markdown",
   "id": "75688ac6-879d-4449-b73e-74f03a5f991f",
   "metadata": {
    "tags": [],
    "user_expressions": []
   },
   "source": [
    "<img src=\"https://xarray.dev/dataset-diagram-logo.png\"\n",
    "     align=\"right\"\n",
    "     width=\"30%\"/>\n",
    "\n",
    "# Geospatial Large\n",
    "\n",
    "This is a national water model: https://registry.opendata.aws/nwm-archive/"
   ]
  },
  {
   "cell_type": "markdown",
   "id": "5dd71599-465f-4c97-baaa-19d900d2a070",
   "metadata": {
    "user_expressions": []
   },
   "source": [
    "## Set up cluster"
   ]
  },
  {
   "cell_type": "code",
   "execution_count": null,
   "id": "60b08a1c-d042-40f2-aaaa-e7665ca85d64",
   "metadata": {
    "tags": []
   },
   "outputs": [],
   "source": [
    "import coiled\n",
    "\n",
    "cluster = coiled.Cluster(\n",
    "    n_workers=40,\n",
    "    region=\"us-east-1\",\n",
    ")\n",
    "client = cluster.get_client()"
   ]
  },
  {
   "cell_type": "markdown",
   "id": "8185966d-6659-482b-bcbb-826b8f30b1e3",
   "metadata": {},
   "source": [
    "## Load NWM data"
   ]
  },
  {
   "cell_type": "code",
   "execution_count": null,
   "id": "e8b1749a-0d64-4278-823c-892120bf1a5b",
   "metadata": {
    "tags": []
   },
   "outputs": [],
   "source": [
    "import xarray as xr\n",
    "\n",
    "ds = xr.open_zarr(\n",
    "    \"s3://noaa-nwm-retrospective-2-1-zarr-pds/rtout.zarr\",\n",
    "    consolidated=True,\n",
    ")\n",
    "ds"
   ]
  },
  {
   "cell_type": "code",
   "execution_count": null,
   "id": "2147fc5c-60ee-4409-8c22-69c5e68a4c63",
   "metadata": {
    "tags": []
   },
   "outputs": [],
   "source": [
    "ds.nbytes / 1e12  # half-petabyte"
   ]
  },
  {
   "cell_type": "markdown",
   "id": "0911fb96-7c08-4ca6-a35a-22e2a5a908cd",
   "metadata": {
    "tags": []
   },
   "source": [
    "## Compute average over space"
   ]
  },
  {
   "cell_type": "code",
   "execution_count": null,
   "id": "2a6fb91d-6a02-4afc-8d8a-ec3529f805f4",
   "metadata": {
    "tags": []
   },
   "outputs": [],
   "source": [
    "subset = ds.zwattablrt.sel(time=slice(\"2001-01-01\", \"2001-12-31\"))\n",
    "subset"
   ]
  },
  {
   "cell_type": "code",
   "execution_count": null,
   "id": "8ae07b31-383c-4cc9-b94a-cbbb68369746",
   "metadata": {
    "tags": []
   },
   "outputs": [],
   "source": [
    "avg = subset.mean(dim=[\"x\", \"y\"]).persist()"
   ]
  },
  {
   "cell_type": "code",
   "execution_count": null,
   "id": "c42ef712-c60c-4049-816f-fcbd115a27a5",
   "metadata": {
    "tags": []
   },
   "outputs": [],
   "source": [
    "cluster.scale(300)"
   ]
  },
  {
   "cell_type": "code",
   "execution_count": null,
   "id": "fdb5ac6f-48c3-4457-bf80-aab4336598f3",
   "metadata": {
    "tags": []
   },
   "outputs": [],
   "source": [
    "avg.compute().plot()"
   ]
  },
  {
   "cell_type": "code",
   "execution_count": null,
   "id": "1f71eff1-986f-4a7c-9ebe-92437effff8b",
   "metadata": {},
   "outputs": [],
   "source": [
    "cluster.shutdown()"
   ]
  }
 ],
 "metadata": {
  "kernelspec": {
   "display_name": "Python [conda env:deepak]",
   "language": "python",
   "name": "conda-env-deepak-py"
  },
  "language_info": {
   "codemirror_mode": {
    "name": "ipython",
    "version": 3
   },
   "file_extension": ".py",
   "mimetype": "text/x-python",
   "name": "python",
   "nbconvert_exporter": "python",
   "pygments_lexer": "ipython3",
   "version": "3.11.3"
  }
 },
 "nbformat": 4,
 "nbformat_minor": 5
}
