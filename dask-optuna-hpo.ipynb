{
 "cells": [
  {
   "cell_type": "markdown",
   "id": "328b1a63-c2d7-4d94-b664-b6b3222f6b6f",
   "metadata": {},
   "source": [
    "# Distributed Hyperparameter Optimization with Dask and Optuna\n",
    "\n",
    "Optuna is a very powerful open source framework that helps automate hyperparameter search, and it integrates with Dask allowing you to run optimization trials in parallel on a cluster.\n",
    "\n",
    "This example walks through a workload which uses Dask and Optuna, to optimize an XGBoost classification model in parallel across a Dask cluster.\n",
    "\n",
    "You can {download}`download this jupyter notebook <dask-optuna-hpo.ipynb>` and watch the video below to follow along:\n",
    "\n",
    "<iframe width=\"560\" height=\"315\" src=\"https://www.youtube.com/embed/_x7oaSEJDjA?start=1305\" title=\"YouTube video player\" frameborder=\"0\" allow=\"accelerometer; autoplay; clipboard-write; encrypted-media; gyroscope; picture-in-picture; web-share\" allowfullscreen></iframe>\n"
   ]
  },
  {
   "cell_type": "markdown",
   "id": "365c759e-87db-4dac-a42b-44ad40a185ec",
   "metadata": {},
   "source": [
    "## Before you start\n",
    "\n",
    "You'll first need install the necessary packages. For the purposes of this example, we'll do this in a new virtual environment, but you could also install them in whatever environment you're already using for your project.\n",
    "\n",
    "```bash\n",
    "$ conda create -n dask-optuna-example -c conda-forge python=3.10 optuna dask coiled xgboost sklearn matplotlib\n",
    "$ conda activate dask-optuna-example\n",
    "```\n",
    "  \n",
    "You also could use `pip`, or any other package manager you prefer; `conda` isn't required.\n",
    "\n",
    "When you create a cluster, Coiled will automatically replicate your local `dask-optuna-example` environment in your cluster."
   ]
  },
  {
   "cell_type": "markdown",
   "id": "eedc5791-2801-4f4c-bb48-023f0b9a6b60",
   "metadata": {},
   "source": [
    "## Get a Coiled Cluster\n",
    "\n",
    "To start we need to spin up a Dask cluster"
   ]
  },
  {
   "cell_type": "code",
   "execution_count": null,
   "id": "4e75a094-ea61-438e-87b8-a0ac252c93ed",
   "metadata": {},
   "outputs": [],
   "source": [
    "import coiled\n",
    "\n",
    "cluster = coiled.Cluster(\n",
    "    n_workers=20,\n",
    "    name=\"dask-optuna-hpo\",\n",
    ")"
   ]
  },
  {
   "cell_type": "markdown",
   "id": "a44d9626-c6be-4f98-860e-d72c10f77b4e",
   "metadata": {},
   "source": [
    "and then connect Dask to your remote Coiled cluster."
   ]
  },
  {
   "cell_type": "code",
   "execution_count": null,
   "id": "68d1bd97-8b52-4efc-b55f-c9e5e11ac3c1",
   "metadata": {},
   "outputs": [],
   "source": [
    "from dask.distributed import Client\n",
    "\n",
    "client = Client(cluster)\n",
    "client"
   ]
  },
  {
   "cell_type": "markdown",
   "id": "20976f21-2f3f-4335-9596-b24c77b03013",
   "metadata": {},
   "source": [
    "## Optuna Study\n",
    "\n",
    "We create a simple in-memory Optuna study and we ship it off to Dask, which will handle the coordination of the results. \n",
    "\n",
    "The Dask integration with Optuna leverages Optuna’s existing distributed optimization capabilities to run optimization trials in parallel on a Dask cluster. It does this by providing a Dask-compatible storage `optuna.integration.DaskStorage` that can be used directly by Optuna.\n",
    "\n",
    ":::{note}\n",
    "Usually we see people setting up a database at this step to coordinate results. However, in this case there is no need of a database, Dask can happily coordinate this (unless you already have a database handy).\n",
    ":::\n"
   ]
  },
  {
   "cell_type": "code",
   "execution_count": null,
   "id": "da66665e-b936-4417-8253-8f0b27404f74",
   "metadata": {},
   "outputs": [],
   "source": [
    "import optuna\n",
    "\n",
    "backend_storage = optuna.storages.InMemoryStorage()\n",
    "dask_storage = optuna.integration.DaskStorage(storage=backend_storage)\n",
    "\n",
    "study = optuna.create_study(\n",
    "    direction=\"maximize\",\n",
    "    storage=dask_storage,  # This makes the study Dask-enabled\n",
    "    sampler=optuna.samplers.RandomSampler(),\n",
    ")"
   ]
  },
  {
   "cell_type": "markdown",
   "id": "2c6f39c9-1b65-4962-a1e2-053016671789",
   "metadata": {},
   "source": [
    "## Objective function\n",
    "\n",
    "In this example we use Optuna to optimize several hyperparameters for an XGBoost classifier trained on the breast cancer dataset.\n",
    "\n",
    "There is no Dask-specific code here. This is exactly the same code you would write if you were to run Optuna on your local machine."
   ]
  },
  {
   "cell_type": "code",
   "execution_count": 4,
   "id": "d5583849-384a-4793-95a4-60d20b40dbc9",
   "metadata": {},
   "outputs": [],
   "source": [
    "import xgboost as xgb\n",
    "from sklearn.datasets import load_breast_cancer\n",
    "from sklearn.model_selection import KFold, cross_val_score\n",
    "\n",
    "\n",
    "def objective(trial):\n",
    "    X, y = load_breast_cancer(return_X_y=True)\n",
    "\n",
    "    params = {\n",
    "        \"n_estimators\": 10,\n",
    "        \"verbosity\": 0,\n",
    "        # L2 regularization weight.\n",
    "        \"lambda\": trial.suggest_float(\"lambda\", 1e-8, 100.0, log=True),\n",
    "        # L1 regularization weight.\n",
    "        \"alpha\": trial.suggest_float(\"alpha\", 1e-8, 100.0, log=True),\n",
    "        # sampling according to each tree.\n",
    "        \"colsample_bytree\": trial.suggest_float(\"colsample_bytree\", 0.2, 1.0),\n",
    "        \"max_depth\": trial.suggest_int(\"max_depth\", 2, 10, step=1),\n",
    "        # minimum child weight, larger the term more conservative the tree.\n",
    "        \"min_child_weight\": trial.suggest_float(\n",
    "            \"min_child_weight\", 1e-8, 100, log=True\n",
    "        ),\n",
    "        \"learning_rate\": trial.suggest_float(\"learning_rate\", 1e-8, 1.0, log=True),\n",
    "        # defines how selective algorithm is.\n",
    "        \"gamma\": trial.suggest_float(\"gamma\", 1e-8, 1.0, log=True),\n",
    "        \"grow_policy\": \"depthwise\",\n",
    "        \"eval_metric\": \"logloss\",\n",
    "    }\n",
    "\n",
    "    clf = xgb.XGBClassifier(**params)\n",
    "    fold = KFold(n_splits=5, shuffle=True, random_state=0)\n",
    "    score = cross_val_score(clf, X, y, cv=fold, scoring=\"neg_log_loss\")\n",
    "\n",
    "    return score.mean()"
   ]
  },
  {
   "cell_type": "markdown",
   "id": "86c2f077-4fee-43b1-a83f-f6677c0cf14b",
   "metadata": {},
   "source": [
    "## Run optimization trials in parallel\n",
    "\n",
    "All of the actual coordination happens within Optuna. It's Dask's job just to provide a lot of firepower, which we do by submitting the optimize method many times to the cluster."
   ]
  },
  {
   "cell_type": "code",
   "execution_count": 5,
   "id": "ca6ba36a-d208-4532-8962-02b1a3ebc22a",
   "metadata": {},
   "outputs": [
    {
     "name": "stdout",
     "output_type": "stream",
     "text": [
      "CPU times: user 1.58 s, sys: 190 ms, total: 1.77 s\n",
      "Wall time: 13.5 s\n"
     ]
    }
   ],
   "source": [
    "%%time\n",
    "\n",
    "from dask.distributed import wait\n",
    "\n",
    "futures = [\n",
    "    client.submit(study.optimize, objective, n_trials=1, pure=False) for _ in range(500)\n",
    "]\n",
    "\n",
    "_ = wait(futures)"
   ]
  },
  {
   "cell_type": "markdown",
   "id": "071a1a51-74b8-41cc-9eca-0a917ade7ea4",
   "metadata": {},
   "source": [
    "## Results"
   ]
  },
  {
   "cell_type": "code",
   "execution_count": 6,
   "id": "76e01eb6-cc2f-4a5f-945e-ccabd8159b1b",
   "metadata": {},
   "outputs": [
    {
     "data": {
      "text/plain": [
       "{'lambda': 1.1621290394322247e-05,\n",
       " 'alpha': 9.83092540863607e-05,\n",
       " 'colsample_bytree': 0.21935162277801334,\n",
       " 'max_depth': 6,\n",
       " 'min_child_weight': 0.8163016764545912,\n",
       " 'learning_rate': 0.5136962894115045,\n",
       " 'gamma': 2.7556478610454198e-05}"
      ]
     },
     "execution_count": 6,
     "metadata": {},
     "output_type": "execute_result"
    }
   ],
   "source": [
    "study.best_params"
   ]
  },
  {
   "cell_type": "code",
   "execution_count": 7,
   "id": "023a9154-4aba-4603-be6b-1bc8157fef24",
   "metadata": {},
   "outputs": [
    {
     "data": {
      "text/plain": [
       "-0.09708305744830134"
      ]
     },
     "execution_count": 7,
     "metadata": {},
     "output_type": "execute_result"
    }
   ],
   "source": [
    "study.best_value"
   ]
  },
  {
   "cell_type": "code",
   "execution_count": 8,
   "id": "1bc1a3ae-1d66-4ce4-860b-c9f8268b799e",
   "metadata": {},
   "outputs": [
    {
     "name": "stderr",
     "output_type": "stream",
     "text": [
      "/var/folders/1y/ydztfpnd11b6qmvbb8_x56jh0000gn/T/ipykernel_56539/1488679482.py:6: ExperimentalWarning: plot_optimization_history is experimental (supported from v2.2.0). The interface can change in the future.\n",
      "  plot_optimization_history(study);\n"
     ]
    },
    {
     "data": {
      "image/png": "[encoded data removed]",
      "text/plain": [
       "<Figure size 640x480 with 1 Axes>"
      ]
     },
     "metadata": {},
     "output_type": "display_data"
    }
   ],
   "source": [
    "from optuna.visualization.matplotlib import (\n",
    "    plot_optimization_history,\n",
    "    plot_param_importances,\n",
    ")\n",
    "\n",
    "plot_optimization_history(study);"
   ]
  },
  {
   "cell_type": "markdown",
   "id": "d5731737-e6a9-4880-81a8-271474732313",
   "metadata": {},
   "source": [
    "## Clean up"
   ]
  },
  {
   "cell_type": "code",
   "execution_count": 9,
   "id": "42f190db-ec66-42db-a489-3473cef20856",
   "metadata": {},
   "outputs": [],
   "source": [
    "cluster.close()"
   ]
  }
 ],
 "metadata": {
  "kernelspec": {
   "display_name": "Python 3 (ipykernel)",
   "language": "python",
   "name": "python3"
  },
  "language_info": {
   "codemirror_mode": {
    "name": "ipython",
    "version": 3
   },
   "file_extension": ".py",
   "mimetype": "text/x-python",
   "name": "python",
   "nbconvert_exporter": "python",
   "pygments_lexer": "ipython3",
   "version": "3.10.9"
  }
 },
 "nbformat": 4,
 "nbformat_minor": 5
}
