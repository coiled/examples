{
 "cells": [
  {
   "cell_type": "markdown",
   "id": "bcbbc249-ad44-41e7-acd1-d38dc5ae70cd",
   "metadata": {},
   "source": [
    "<img src=\"https://docs.dask.org/en/stable/_images/dask_horizontal.svg\"\n",
    "     align=\"right\"\n",
    "     width=\"40%\"/>\n",
    "\n",
    "# Dask Futures for simple parallelism\n",
    "\n",
    "Dask futures are the foundation of all Dask APIs.  They are easy to use and flexible.  \n",
    "Dask futures work with any Python function on any Python object."
   ]
  },
  {
   "cell_type": "markdown",
   "id": "42499a51-5130-4cae-8ce5-0d9234133d26",
   "metadata": {},
   "source": [
    "## Create a few processes locally"
   ]
  },
  {
   "cell_type": "code",
   "execution_count": null,
   "id": "cf01af2d-07ce-46dc-bb2e-17149678d1a6",
   "metadata": {},
   "outputs": [],
   "source": [
    "from dask.distributed import Client\n",
    "client = Client()\n",
    "\n",
    "client"
   ]
  },
  {
   "cell_type": "markdown",
   "id": "3e84a69c-e9a6-473f-806d-5e46f0b67bee",
   "metadata": {},
   "source": [
    "## Some basic Python code\n",
    "\n",
    "These functions pretend to do some work, but are very simple.  Dask doesn't care what code it runs.  You should imagine replacing these with your own code."
   ]
  },
  {
   "cell_type": "code",
   "execution_count": null,
   "id": "acaf1116-6802-4561-adc4-2f3858d7a21f",
   "metadata": {},
   "outputs": [],
   "source": [
    "import time, random\n",
    "\n",
    "def inc(x):\n",
    "    time.sleep(random.random())\n",
    "    return x + 1\n",
    "\n",
    "def dec(x):\n",
    "    time.sleep(random.random())\n",
    "    return x - 1\n",
    "\n",
    "def add(x, y):\n",
    "    time.sleep(random.random())\n",
    "    return x + y"
   ]
  },
  {
   "cell_type": "code",
   "execution_count": null,
   "id": "0265fa74-1086-4218-b9f9-7af773b4b897",
   "metadata": {},
   "outputs": [],
   "source": [
    "%%time\n",
    "inc(10)"
   ]
  },
  {
   "cell_type": "markdown",
   "id": "ef34469f-2aef-4e60-99af-5e8090cdd3bc",
   "metadata": {},
   "source": [
    "## Sequential Code\n",
    "\n",
    "This very simple code just calls these function ten times in a loop.\n",
    "\n",
    "Dask makes it easy to parallelize simple code like this on your computer."
   ]
  },
  {
   "cell_type": "code",
   "execution_count": null,
   "id": "2f618490-e13e-4b9e-b8ca-a62f7f4c614b",
   "metadata": {
    "tags": []
   },
   "outputs": [],
   "source": [
    "%%time\n",
    "\n",
    "results = []\n",
    "for x in range(20):\n",
    "    result = inc(x)\n",
    "    result = dec(result)\n",
    "    results.append(result)\n"
   ]
  },
  {
   "cell_type": "markdown",
   "id": "38b4d6e9-f511-42b5-8708-c3350fc82894",
   "metadata": {
    "tags": []
   },
   "source": [
    "## Parallel code\n"
   ]
  },
  {
   "cell_type": "code",
   "execution_count": null,
   "id": "0948cc01-d3a5-455d-9b05-040dd525bc98",
   "metadata": {},
   "outputs": [],
   "source": [
    "%%time\n",
    "\n",
    "results = []\n",
    "for x in range(20):\n",
    "    result = client.submit(inc, x)\n",
    "    result = client.submit(dec, result)\n",
    "    results.append(result)\n",
    "\n",
    "results = client.gather(results)"
   ]
  },
  {
   "cell_type": "code",
   "execution_count": null,
   "id": "f7b680d4-1fe5-4f0e-9844-e9f3345dab7e",
   "metadata": {},
   "outputs": [],
   "source": []
  },
  {
   "cell_type": "code",
   "execution_count": null,
   "id": "66c87e7c-630f-4e8c-99d3-802483bb921f",
   "metadata": {},
   "outputs": [],
   "source": []
  },
  {
   "cell_type": "markdown",
   "id": "6a7504e7-0c8c-4b00-91e9-daa5bd94c2d3",
   "metadata": {
    "tags": []
   },
   "source": [
    "## More complex code with tree reduction\n",
    "\n",
    "The code above is very simple.  Let's show off that Dask can do more complex things.  \n",
    "Here we add all of our elements pair-wise until there is only one left.  This looks especially fun if you bring up the \"Graph\" dashboard plot."
   ]
  },
  {
   "cell_type": "code",
   "execution_count": null,
   "id": "8cbcc7ef-7739-4b3f-a17d-f663270cbcd7",
   "metadata": {
    "tags": []
   },
   "outputs": [],
   "source": [
    "%%time\n",
    "\n",
    "results = []\n",
    "for x in range(128):\n",
    "    result = client.submit(inc, x)\n",
    "    result = client.submit(dec, result)\n",
    "    results.append(result)\n",
    "\n",
    "# Add up all of the results, pairwise\n",
    "while len(results) > 1:\n",
    "    results = [\n",
    "        client.submit(add, results[i],  results[i + 1]) \n",
    "        for i in range(0, len(results), 2)\n",
    "    ]\n",
    "    \n",
    "results = client.gather(results)"
   ]
  },
  {
   "cell_type": "markdown",
   "id": "664ec9c2-edfd-4120-98a7-a77937ead759",
   "metadata": {},
   "source": [
    "## Scale Out"
   ]
  },
  {
   "cell_type": "code",
   "execution_count": null,
   "id": "e5a67007-7af7-490c-8f4d-0c1a5f30d5c5",
   "metadata": {},
   "outputs": [],
   "source": [
    "import coiled\n",
    "\n",
    "cluster = coiled.Cluster(\n",
    "    n_workers=20,\n",
    ")\n",
    "client = cluster.get_client()\n",
    "\n",
    "# Then rerun the cells above"
   ]
  }
 ],
 "metadata": {
  "kernelspec": {
   "display_name": "Python [conda env:coiled]",
   "language": "python",
   "name": "conda-env-coiled-py"
  },
  "language_info": {
   "codemirror_mode": {
    "name": "ipython",
    "version": 3
   },
   "file_extension": ".py",
   "mimetype": "text/x-python",
   "name": "python",
   "nbconvert_exporter": "python",
   "pygments_lexer": "ipython3",
   "version": "3.10.0"
  }
 },
 "nbformat": 4,
 "nbformat_minor": 5
}
