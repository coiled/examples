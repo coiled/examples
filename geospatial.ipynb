{
 "cells": [
  {
   "cell_type": "markdown",
   "id": "08569734-bcce-4262-afd9-fdb0b2c115f1",
   "metadata": {},
   "source": [
    "<img src=\"https://xarray.dev/dataset-diagram-logo.png\"\n",
    "     align=\"right\"\n",
    "     width=\"30%\"/>\n",
    "\n",
    "# Geospatial "
   ]
  },
  {
   "cell_type": "markdown",
   "id": "e7979d85-aeea-4840-bb70-cac005b546d1",
   "metadata": {},
   "source": [
    "## Create Cluster"
   ]
  },
  {
   "cell_type": "code",
   "execution_count": null,
   "id": "d52d2767-b8ed-4d58-8731-7c2133f0178f",
   "metadata": {},
   "outputs": [],
   "source": [
    "import dask.distributed\n",
    "import coiled\n",
    "\n",
    "cluster = coiled.Cluster(\n",
    "    n_workers=10,\n",
    "    region=\"us-east-1\",\n",
    ") \n",
    "\n",
    "client = cluster.get_client()"
   ]
  },
  {
   "cell_type": "markdown",
   "id": "6d6e93b6-ca92-4ee3-9b11-57608ed03e56",
   "metadata": {},
   "source": [
    "## Load Data"
   ]
  },
  {
   "cell_type": "code",
   "execution_count": null,
   "id": "fb81f4b3-f968-423a-9fe8-d19d3a3a4ead",
   "metadata": {},
   "outputs": [],
   "source": [
    "# code used to produce the image above ^\n",
    "import xarray as xr\n",
    "import geogif\n",
    "import coiled\n",
    "\n",
    "ds = xr.open_dataset(\n",
    "    \"s3://era5-pds/zarr/2020/01/data/eastward_wind_at_100_metres.zarr\",\n",
    "    engine=\"zarr\",\n",
    "    chunks={},\n",
    ").persist()\n",
    "ds"
   ]
  },
  {
   "cell_type": "markdown",
   "id": "b1fb352e-459b-4782-be32-51f5c35240cb",
   "metadata": {},
   "source": [
    "## Analyze"
   ]
  },
  {
   "cell_type": "code",
   "execution_count": null,
   "id": "1b999355-2acd-477e-8c30-eb815c7b4c76",
   "metadata": {},
   "outputs": [],
   "source": [
    "hourly_wind = (\n",
    "    ds['eastward_wind_at_100_metres']\n",
    "    .sel(lon=slice(180, None))\n",
    "    .coarsen(lat=2, lon=2, boundary='trim')\n",
    "    .mean()\n",
    ")\n",
    "\n",
    "geogif.dgif(hourly_wind).compute()"
   ]
  },
  {
   "cell_type": "code",
   "execution_count": null,
   "id": "183e6f2d-88e9-4fe5-8072-7b2a07e5a27e",
   "metadata": {},
   "outputs": [],
   "source": [
    "cluster.shutdown()"
   ]
  }
 ],
 "metadata": {
  "kernelspec": {
   "display_name": "Python [conda env:coiled]",
   "language": "python",
   "name": "conda-env-coiled-py"
  },
  "language_info": {
   "codemirror_mode": {
    "name": "ipython",
    "version": 3
   },
   "file_extension": ".py",
   "mimetype": "text/x-python",
   "name": "python",
   "nbconvert_exporter": "python",
   "pygments_lexer": "ipython3",
   "version": "3.10.0"
  }
 },
 "nbformat": 4,
 "nbformat_minor": 5
}
